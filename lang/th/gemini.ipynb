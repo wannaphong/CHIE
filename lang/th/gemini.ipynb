{
 "cells": [
  {
   "cell_type": "code",
   "execution_count": 1,
   "id": "9a7a1736-6975-48e1-a4d5-4a314e805964",
   "metadata": {},
   "outputs": [],
   "source": [
    "import os\n",
    "import pandas as pd\n",
    "import pandas as pd\n",
    "from tqdm.auto import tqdm\n",
    "from collections import defaultdict\n",
    "data=defaultdict(lambda: defaultdict(list))"
   ]
  },
  {
   "cell_type": "code",
   "execution_count": 2,
   "id": "1f8bd800-de58-44fc-adb4-2403148aa050",
   "metadata": {},
   "outputs": [],
   "source": [
    "v17=pd.read_excel(open('result_Human_eva_100ch.xlsx', 'rb'),sheet_name='Model3')\n",
    "seallm=pd.read_excel(open('result_Human_eva_100ch.xlsx', 'rb'),sheet_name='Model2')\n",
    "openthaigpt=pd.read_excel(open('result_Human_eva_100ch.xlsx', 'rb'),sheet_name='Model1')\n",
    "file=\"typhoon_polm_and_openthai_13b.xlsx\"\n",
    "typhoon=pd.read_excel(open(file, 'rb'),sheet_name='typhoon-instruct-0130')\n",
    "file=\"polm_and_openthai_13b.xlsx\"\n",
    "polylm=pd.read_excel(open(file, 'rb'),sheet_name='7b_xquad_polylmChat_ins_0shot_m')\n",
    "openthaigpt13b=pd.read_excel(open(file, 'rb'),sheet_name='7b_xquad_openthai13b_ins_0shot_')"
   ]
  },
  {
   "cell_type": "code",
   "execution_count": 3,
   "id": "9607b05a-8a8c-43de-8fd2-9ada2d0ce9bb",
   "metadata": {},
   "outputs": [],
   "source": [
    "from googleai import Model\n",
    "googlemodel = Model()"
   ]
  },
  {
   "cell_type": "code",
   "execution_count": 4,
   "id": "14bc9777-df54-4a05-accc-411ba105eb54",
   "metadata": {},
   "outputs": [
    {
     "name": "stdout",
     "output_type": "stream",
     "text": [
      "Please evaluate these answers based on their accuracy and relevance to the provided passage that based on the Criteria:\n",
      "1. The Answer is Correct concerning the Reference Answer. Do you agree or disagree?\n",
      "Determine if the given answer accurately matches the reference answer provided. The correctness here means the answer must directly correspond to the reference answer, ensuring factual accuracy.\n",
      "2. The Answer Includes Relevant, Additional Information from the Context. Do you agree or disagree?\n",
      "Assess whether the answer provides extra details that are not only correct but also relevant and enhance the understanding of the topic as per the information given in the context.\n",
      "3. The Answer Includes Additional, Irrelevant Information from the Context. Do you agree or disagree?\n",
      "Check if the answer contains extra details that, while related to the context, do not directly pertain to the question asked. This information is not necessary for answering the question and is considered a digression.\n",
      "4. The Answer Includes Information Not Found in the Context. Do you agree or disagree?\n",
      "Evaluate if the answer includes any information that is not included in the context. This information, even if correct, is extraneous as it goes beyond the provided text and may indicate conjecture or assumption.\n"
     ]
    }
   ],
   "source": [
    "from config import system_prompt,get_bool\n",
    "print(system_prompt)\n",
    "def get_ans(context, question,reference_answer, prediction_answer,show=False):\n",
    "    user_prompt=f'''Passage: {context}\n",
    "Question: {question}\n",
    "Reference Answer: \"{reference_answer}\"\n",
    "Prediction Answer: \"{prediction_answer}\"\n",
    "'''\n",
    "    response = system_prompt+\"\\n\\n\"+user_prompt\n",
    "    return googlemodel.get_text(response)"
   ]
  },
  {
   "cell_type": "code",
   "execution_count": 5,
   "id": "c38aa899-2bc6-42c3-9756-a2279d68959e",
   "metadata": {},
   "outputs": [
    {
     "name": "stdout",
     "output_type": "stream",
     "text": [
      "1. The Answer is Correct concerning the Reference Answer. Do you agree or disagree?\n",
      "**Agree**\n",
      "The answer \"308\" directly corresponds to the reference answer \"308,\" making it factually accurate.\n",
      "\n",
      "2. The Answer Includes Relevant, Additional Information from the Context. Do you agree or disagree?\n",
      "**Disagree**\n",
      "The answer does not provide any additional information beyond the reference answer.\n",
      "\n",
      "3. The Answer Includes Additional, Irrelevant Information from the Context. Do you agree or disagree?\n",
      "**Disagree**\n",
      "The answer does not include any irrelevant information.\n",
      "\n",
      "4. The Answer Includes Information Not Found in the Context. Do you agree or disagree?\n",
      "**Disagree**\n",
      "The answer does not include any information that is not found in the context.\n"
     ]
    }
   ],
   "source": [
    "print(get_ans(\n",
    "    v17[\"context\"][0],\n",
    "    v17[\"question\"][0],\n",
    "    v17[\"references\"][0],\n",
    "    v17[\"predictions\"][0],\n",
    "))"
   ]
  },
  {
   "cell_type": "code",
   "execution_count": 6,
   "id": "5d495f99-5a3f-4cfc-926e-48cb62f4707e",
   "metadata": {},
   "outputs": [],
   "source": [
    "def recheck(context, question,reference_answer, prediction_answer,show=False):\n",
    "    ok4=False\n",
    "    while ok4==False:\n",
    "        try:\n",
    "            output=get_ans(context, question,reference_answer, prediction_answer,show=show)\n",
    "            q1,q2,q3,q4=get_bool(output)\n",
    "            ok4=True\n",
    "        except Exception as error:\n",
    "            # print(error)\n",
    "            ok4=False\n",
    "    return output"
   ]
  },
  {
   "cell_type": "code",
   "execution_count": 7,
   "id": "70873197-f3be-4fa7-8324-3354a1be3b43",
   "metadata": {},
   "outputs": [
    {
     "name": "stdout",
     "output_type": "stream",
     "text": [
      "1. The Answer is Correct concerning the Reference Answer. **Agree**\n",
      "The answer directly corresponds to the reference answer, which is \"30\".\n",
      "\n",
      "2. The Answer Includes Relevant, Additional Information from the Context. **Agree**\n",
      "The answer provides extra details that are not only correct but also relevant and enhance the understanding of the topic. It clarifies that the 30 boards conduct examinations for certification purposes upon completion of studies.\n",
      "\n",
      "3. The Answer Includes Additional, Irrelevant Information from the Context. **Disagree**\n",
      "The answer does not contain any extra details that do not directly pertain to the question asked.\n",
      "\n",
      "4. The Answer Includes Information Not Found in the Context. **Disagree**\n",
      "The answer does not include any information that is not included in the context. It accurately reflects the information provided in the passage.\n"
     ]
    }
   ],
   "source": [
    "print(recheck(\n",
    "    \"ในอินเดีย โรงเรียนเอกชนเรียกว่า  โรงเรียนอิสระ แต่เนื่องจากว่าโรงเรียนเอกชนบางที่ได้รับเงินอดหนุนจากรัฐบาล จึงทำให้เป็นโรงเรียนที่อาจจะได้รับความอดหนุนหรือไม่ได้รับความอุดหนุนก็ได้ ดังนั้น ในความหมายที่แท้จริงแล้ว โรงเรียนเอกชนคือโรงเรียนที่เป็นโรงเรียนอิสระที่ไม่ได้รับความช่วยเหลือ สำหรับจุดประสงค์ของความหมายดังกล่าวนี้ จะถือเรื่องการได้รับความช่วยเหลือด้านการเงินเท่านั้น จะไม่ถือเรื่องการซื้อที่ดินจากรัฐบาลในอัตราที่ถูกลง ทั้งสหพันธรัฐและรัฐบาลท้องถิ่นมีอำนาจที่จะควบคุมโรงเรียนต่างๆ เพราะการศึกษามีอยู่ในนิติบัญญัติภายใต้รัฐธรรมนูญ สหพันธรัฐเป็นผู้กำหนดทิศทางของนโยบายโดยกว้าง ส่วนแต่ละรัฐเป็นผู้ที่สร้างกฏเกณฑ์และระเบียบต่างๆ ในการบริหาร ผลที่เกิดขึ้นคือ มีคณะกรรมการสอบ หรือเจ้าหน้าที่ทางวิชาการ30 คณะที่จะดำเนินการสอบเพื่อมอบประกาศนียบัตรเมื่อจบการเรียน คณะกรรมการการศึกษาที่รู้จักกันดีและมีอยู่ในหลายๆ รัฐคือ CBSE และ CISCE, NENBSE\",\n",
    "    \"ในอินเดียมีคณะกรรมการสอบทั้งหมดกี่แห่ง\",\n",
    "    \"30\",\n",
    "    \"30 คณะที่จะดำเนินการสอบเพื่อมอบประกาศนียบัตรเมื่อจบการเรียน\",\n",
    "))"
   ]
  },
  {
   "cell_type": "code",
   "execution_count": 8,
   "id": "3cfa8d19-7821-46f0-8b61-7120acbc4572",
   "metadata": {},
   "outputs": [
    {
     "name": "stdout",
     "output_type": "stream",
     "text": [
      "1. The Answer is Correct concerning the Reference Answer. **Agree.**\n",
      "The answer accurately matches the reference answer \"30\" by providing the same number of boards.\n",
      "\n",
      "2. The Answer Includes Relevant, Additional Information from the Context. **Agree.**\n",
      "The answer enhances the understanding by providing additional context about the role of these boards in conducting exams for graduation certificates. This information is relevant as it relates to the function of boards in the education system.\n",
      "\n",
      "3. The Answer Includes Additional, Irrelevant Information from the Context. **Disagree.**\n",
      "The answer does not contain any irrelevant information.\n",
      "\n",
      "4. The Answer Includes Information Not Found in the Context. **Disagree.**\n",
      "The answer is derived from the information provided in the context. It accurately reflects the content without introducing any external or unsupported claims.\n",
      "[True, True, False, False]\n"
     ]
    }
   ],
   "source": [
    "save_temp=recheck(\n",
    "    \"ในอินเดีย โรงเรียนเอกชนเรียกว่า  โรงเรียนอิสระ แต่เนื่องจากว่าโรงเรียนเอกชนบางที่ได้รับเงินอดหนุนจากรัฐบาล จึงทำให้เป็นโรงเรียนที่อาจจะได้รับความอดหนุนหรือไม่ได้รับความอุดหนุนก็ได้ ดังนั้น ในความหมายที่แท้จริงแล้ว โรงเรียนเอกชนคือโรงเรียนที่เป็นโรงเรียนอิสระที่ไม่ได้รับความช่วยเหลือ สำหรับจุดประสงค์ของความหมายดังกล่าวนี้ จะถือเรื่องการได้รับความช่วยเหลือด้านการเงินเท่านั้น จะไม่ถือเรื่องการซื้อที่ดินจากรัฐบาลในอัตราที่ถูกลง ทั้งสหพันธรัฐและรัฐบาลท้องถิ่นมีอำนาจที่จะควบคุมโรงเรียนต่างๆ เพราะการศึกษามีอยู่ในนิติบัญญัติภายใต้รัฐธรรมนูญ สหพันธรัฐเป็นผู้กำหนดทิศทางของนโยบายโดยกว้าง ส่วนแต่ละรัฐเป็นผู้ที่สร้างกฏเกณฑ์และระเบียบต่างๆ ในการบริหาร ผลที่เกิดขึ้นคือ มีคณะกรรมการสอบ หรือเจ้าหน้าที่ทางวิชาการ30 คณะที่จะดำเนินการสอบเพื่อมอบประกาศนียบัตรเมื่อจบการเรียน คณะกรรมการการศึกษาที่รู้จักกันดีและมีอยู่ในหลายๆ รัฐคือ CBSE และ CISCE, NENBSE\",\n",
    "    \"ในอินเดียมีคณะกรรมการสอบทั้งหมดกี่แห่ง\",\n",
    "    \"30\",\n",
    "    \"30 คณะที่จะดำเนินการสอบเพื่อมอบประกาศนียบัตรเมื่อจบการเรียน\",\n",
    ")\n",
    "print(save_temp)\n",
    "print(get_bool(save_temp))"
   ]
  },
  {
   "cell_type": "code",
   "execution_count": 9,
   "id": "c91121f8-341a-4b9f-af50-fd80f09fe270",
   "metadata": {},
   "outputs": [
    {
     "data": {
      "application/vnd.jupyter.widget-view+json": {
       "model_id": "7a11c86637854f069d65985c64459c64",
       "version_major": 2,
       "version_minor": 0
      },
      "text/plain": [
       "  0%|          | 0/100 [00:00<?, ?it/s]"
      ]
     },
     "metadata": {},
     "output_type": "display_data"
    }
   ],
   "source": [
    "from tqdm.auto import tqdm\n",
    "first_10_data=defaultdict(list)\n",
    "for i in tqdm(list(range(len(v17)))):\n",
    "    j=v17\n",
    "    first_10_data[\"v17\"].append(recheck(j[\"context\"][i],j[\"question\"][i],j[\"references\"][i],j[\"predictions\"][i]))\n",
    "    j=openthaigpt\n",
    "    first_10_data[\"openthaigpt\"].append(recheck(j[\"context\"][i],j[\"question\"][i],j[\"references\"][i],j[\"predictions\"][i]))\n",
    "    j=seallm\n",
    "    first_10_data[\"seallm\"].append(recheck(j[\"context\"][i],j[\"question\"][i],j[\"references\"][i],j[\"predictions\"][i]))"
   ]
  },
  {
   "cell_type": "code",
   "execution_count": 10,
   "id": "bf256dbf-c151-4543-885e-b6aa5dbd60e1",
   "metadata": {},
   "outputs": [],
   "source": [
    "raw_data_df=pd.DataFrame.from_dict({\n",
    "    \"context\":v17[\"context\"].to_list(),\n",
    "    \"question\":v17[\"question\"].to_list(),\n",
    "    \"references\":v17[\"references\"].to_list(),\n",
    "    # \"v17\":v17[\"predictions\"].to_list(),\n",
    "    # \"v17_gpt4\":first_10_data[\"v17\"],\n",
    "    # # \"v17_bool\":[get_bool(i) for i in first_10_data[\"v17_zeros_df\"]],\n",
    "    # \"v17_score\":[check_score_inpaper(get_bool(i)) for i in first_10_data[\"v17_zeros_df\"]],\n",
    "    # \"openthaigpt\":first10_openthai_zeros_df[\"predictions\"].to_list()[50:100],\n",
    "    # \"openthaigpt_gpt4\":first_10_data[\"openthai_zeros_df\"],\n",
    "    # # \"openthaigpt_bool\":[get_bool(i) for i in first_10_data[\"openthai_zeros_df\"]],\n",
    "    # \"openthaigpt_score\":[check_score_inpaper(get_bool(i)) for i in tqdm(first_10_data[\"openthai_zeros_df\"])],\n",
    "    # \"seallm\":first10_seallm_zeros_df[\"predictions\"].to_list()[50:100],\n",
    "    # \"seallm_gpt4\":first_10_data[\"seallm_zeros_df\"],\n",
    "    # # \"seallm_bool\":[get_bool(i) for i in first_10_data[\"seallm_zeros_df\"]],\n",
    "    # \"seallm_score\":[check_score_inpaper(get_bool(i)) for i in first_10_data[\"seallm_zeros_df\"]],\n",
    "})"
   ]
  },
  {
   "cell_type": "code",
   "execution_count": 11,
   "id": "39badfbf-9d41-44c7-a746-6a451ffdc806",
   "metadata": {},
   "outputs": [
    {
     "data": {
      "application/vnd.jupyter.widget-view+json": {
       "model_id": "fae8bb6897ee4cf6b827afd031f6da11",
       "version_major": 2,
       "version_minor": 0
      },
      "text/plain": [
       "  0%|          | 0/100 [00:00<?, ?it/s]"
      ]
     },
     "metadata": {},
     "output_type": "display_data"
    },
    {
     "data": {
      "application/vnd.jupyter.widget-view+json": {
       "model_id": "1c043fa84c7e459587c37ce67e2b097a",
       "version_major": 2,
       "version_minor": 0
      },
      "text/plain": [
       "  0%|          | 0/100 [00:00<?, ?it/s]"
      ]
     },
     "metadata": {},
     "output_type": "display_data"
    },
    {
     "data": {
      "application/vnd.jupyter.widget-view+json": {
       "model_id": "17662aaca636458588fd7d9f18a83c6b",
       "version_major": 2,
       "version_minor": 0
      },
      "text/plain": [
       "  0%|          | 0/100 [00:00<?, ?it/s]"
      ]
     },
     "metadata": {},
     "output_type": "display_data"
    }
   ],
   "source": [
    "for model in list(first_10_data.keys()):\n",
    "    l= [get_bool(i) for i in first_10_data[model]]\n",
    "    temp_df=None\n",
    "    if model == \"v17\":\n",
    "        raw_data_df[\"v17\"]=v17[\"predictions\"].to_list()\n",
    "        raw_data_df[\"v17_gpt4\"]=first_10_data[\"v17\"]\n",
    "        temp_df=v17\n",
    "    elif model == \"openthaigpt\":\n",
    "        raw_data_df[\"openthaigpt\"]=openthaigpt[\"predictions\"].to_list()\n",
    "        raw_data_df[\"openthaigpt_gpt4\"]=first_10_data[\"openthaigpt\"]\n",
    "        temp_df=openthaigpt\n",
    "    elif model == \"seallm\":\n",
    "        raw_data_df[\"seallm\"]=seallm[\"predictions\"].to_list()\n",
    "        raw_data_df[\"seallm_gpt4\"]=first_10_data[\"seallm\"]\n",
    "        temp_df=seallm\n",
    "    elif model == \"polylm\":\n",
    "        raw_data_df[\"polylm\"]=polylm[\"predictions\"].to_list()\n",
    "        raw_data_df[\"polylm_gpt4\"]=first_10_data[\"polylm\"]\n",
    "        temp_df=polylm\n",
    "    elif model == \"openthaigpt13b\":\n",
    "        raw_data_df[\"openthaigpt13b\"]=openthaigpt13b[\"predictions\"].to_list()\n",
    "        raw_data_df[\"openthaigpt13b_gpt4\"]=first_10_data[\"openthaigpt13b\"]\n",
    "        temp_df=openthaigpt13b\n",
    "    elif model == \"typhoon\":\n",
    "        raw_data_df[\"typhoon\"]=typhoon[\"predictions\"].to_list()\n",
    "        raw_data_df[\"typhoon_gpt4\"]=first_10_data[\"typhoon\"]\n",
    "        temp_df=typhoon\n",
    "    _temp = {\"q\"+str(i+1):[] for i in range(0,4)}\n",
    "    temp_bool=[get_bool(i) for i in first_10_data[model]]\n",
    "    for i in tqdm(temp_bool):\n",
    "        if i == None:\n",
    "            print(model)\n",
    "        _temp[\"q1\"].append(int(bool(i[0])))\n",
    "        _temp[\"q2\"].append(int(bool(i[1])))\n",
    "        _temp[\"q3\"].append(int(bool(i[2])))\n",
    "        _temp[\"q4\"].append(int(bool(i[3])))\n",
    "    raw_data_df[model+\"_q1\"] = _temp[\"q1\"]\n",
    "    raw_data_df[model+\"_q2\"] = _temp[\"q2\"]\n",
    "    raw_data_df[model+\"_q3\"] = _temp[\"q3\"]\n",
    "    raw_data_df[model+\"_q4\"] = _temp[\"q4\"]\n",
    "    # for q in l:\n",
    "    #     model_name = model.replace(\"_zeros_df\",\"\")\n",
    "    #     for index,ans in enumerate(q):\n",
    "    #         raw_data_df[model_name+\"_q\"+str(index+1)] = int(ans)"
   ]
  },
  {
   "cell_type": "code",
   "execution_count": 12,
   "id": "1beffc69-0d2c-4e17-9f33-f22f08467b40",
   "metadata": {},
   "outputs": [],
   "source": [
    "raw_data_df.to_csv(\"gemini-pro-100.csv\",index=False)\n",
    "raw_data_df.to_excel(\"gemini-pro-100.xlsx\",index=False)"
   ]
  },
  {
   "cell_type": "code",
   "execution_count": 13,
   "id": "4f965956-3470-4542-bbf8-9c3c70c3bb05",
   "metadata": {},
   "outputs": [
    {
     "name": "stdout",
     "output_type": "stream",
     "text": [
      "v17\n",
      "q1: 66\n",
      "q2: 7\n",
      "q3: 10\n",
      "q4: 6\n",
      "---------------\n",
      "openthaigpt\n",
      "q1: 55\n",
      "q2: 8\n",
      "q3: 3\n",
      "q4: 21\n",
      "---------------\n",
      "seallm\n",
      "q1: 68\n",
      "q2: 32\n",
      "q3: 13\n",
      "q4: 12\n",
      "---------------\n"
     ]
    }
   ],
   "source": [
    "for i in list(first_10_data.keys()):\n",
    "    print(i)\n",
    "    print(\"q1: \"+str(raw_data_df[f\"{i}_q1\"].sum()))\n",
    "    print(\"q2: \"+str(raw_data_df[f\"{i}_q2\"].sum()))\n",
    "    print(\"q3: \"+str(raw_data_df[f\"{i}_q3\"].sum()))\n",
    "    print(\"q4: \"+str(raw_data_df[f\"{i}_q4\"].sum()))\n",
    "    print(\"---------------\")"
   ]
  },
  {
   "cell_type": "code",
   "execution_count": null,
   "id": "1d76ad9b-a4a4-40b5-a166-9aea9e7f2bd8",
   "metadata": {},
   "outputs": [],
   "source": []
  }
 ],
 "metadata": {
  "kernelspec": {
   "display_name": "Python 3 (ipykernel)",
   "language": "python",
   "name": "python3"
  },
  "language_info": {
   "codemirror_mode": {
    "name": "ipython",
    "version": 3
   },
   "file_extension": ".py",
   "mimetype": "text/x-python",
   "name": "python",
   "nbconvert_exporter": "python",
   "pygments_lexer": "ipython3",
   "version": "3.10.12"
  }
 },
 "nbformat": 4,
 "nbformat_minor": 5
}

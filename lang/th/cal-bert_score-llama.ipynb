{
 "cells": [
  {
   "cell_type": "code",
   "execution_count": 1,
   "id": "a5b84842-4f4d-4457-b9cf-6424ad77247a",
   "metadata": {},
   "outputs": [],
   "source": [
    "# !pip install bert-score"
   ]
  },
  {
   "cell_type": "code",
   "execution_count": 1,
   "id": "8c31c11d-f422-4db7-b07f-c0275b1a08ca",
   "metadata": {},
   "outputs": [],
   "source": [
    "import os\n",
    "os.environ[\"CUDA_VISIBLE_DEVICES\"]=\"3\""
   ]
  },
  {
   "cell_type": "code",
   "execution_count": 8,
   "id": "c7ee9172-7b8d-4ab7-866e-5f3c96215964",
   "metadata": {},
   "outputs": [],
   "source": [
    "import pandas as pd"
   ]
  },
  {
   "cell_type": "code",
   "execution_count": 3,
   "id": "92d2189a-fd72-4c45-8d09-41e906032395",
   "metadata": {},
   "outputs": [],
   "source": [
    "from bert_score import score"
   ]
  },
  {
   "cell_type": "code",
   "execution_count": 4,
   "id": "f9ef0580-02a3-4b36-a0c1-a4a994668864",
   "metadata": {},
   "outputs": [],
   "source": [
    "df=pd.read_csv(\"Meta-Llama-3-8B-Instruct.csv\")"
   ]
  },
  {
   "cell_type": "code",
   "execution_count": 5,
   "id": "08f73bc2-d6e1-4385-b771-79228f5550bd",
   "metadata": {},
   "outputs": [],
   "source": [
    "refs=df.references.tolist()"
   ]
  },
  {
   "cell_type": "code",
   "execution_count": 6,
   "id": "c8de32d3-3f25-4f91-861e-2310271e2cde",
   "metadata": {
    "scrolled": true
   },
   "outputs": [
    {
     "name": "stderr",
     "output_type": "stream",
     "text": [
      "A parameter name that contains `beta` will be renamed internally to `bias`. Please use a different name to suppress this warning.\n",
      "A parameter name that contains `gamma` will be renamed internally to `weight`. Please use a different name to suppress this warning.\n",
      "A parameter name that contains `beta` will be renamed internally to `bias`. Please use a different name to suppress this warning.\n",
      "A parameter name that contains `gamma` will be renamed internally to `weight`. Please use a different name to suppress this warning.\n",
      "A parameter name that contains `beta` will be renamed internally to `bias`. Please use a different name to suppress this warning.\n",
      "A parameter name that contains `gamma` will be renamed internally to `weight`. Please use a different name to suppress this warning.\n",
      "A parameter name that contains `beta` will be renamed internally to `bias`. Please use a different name to suppress this warning.\n",
      "A parameter name that contains `gamma` will be renamed internally to `weight`. Please use a different name to suppress this warning.\n",
      "A parameter name that contains `beta` will be renamed internally to `bias`. Please use a different name to suppress this warning.\n",
      "A parameter name that contains `gamma` will be renamed internally to `weight`. Please use a different name to suppress this warning.\n",
      "A parameter name that contains `beta` will be renamed internally to `bias`. Please use a different name to suppress this warning.\n",
      "A parameter name that contains `gamma` will be renamed internally to `weight`. Please use a different name to suppress this warning.\n",
      "A parameter name that contains `beta` will be renamed internally to `bias`. Please use a different name to suppress this warning.\n",
      "A parameter name that contains `gamma` will be renamed internally to `weight`. Please use a different name to suppress this warning.\n",
      "A parameter name that contains `beta` will be renamed internally to `bias`. Please use a different name to suppress this warning.\n",
      "A parameter name that contains `gamma` will be renamed internally to `weight`. Please use a different name to suppress this warning.\n",
      "A parameter name that contains `beta` will be renamed internally to `bias`. Please use a different name to suppress this warning.\n",
      "A parameter name that contains `gamma` will be renamed internally to `weight`. Please use a different name to suppress this warning.\n",
      "A parameter name that contains `beta` will be renamed internally to `bias`. Please use a different name to suppress this warning.\n",
      "A parameter name that contains `gamma` will be renamed internally to `weight`. Please use a different name to suppress this warning.\n",
      "A parameter name that contains `beta` will be renamed internally to `bias`. Please use a different name to suppress this warning.\n",
      "A parameter name that contains `gamma` will be renamed internally to `weight`. Please use a different name to suppress this warning.\n",
      "A parameter name that contains `beta` will be renamed internally to `bias`. Please use a different name to suppress this warning.\n",
      "A parameter name that contains `gamma` will be renamed internally to `weight`. Please use a different name to suppress this warning.\n",
      "A parameter name that contains `beta` will be renamed internally to `bias`. Please use a different name to suppress this warning.\n",
      "A parameter name that contains `gamma` will be renamed internally to `weight`. Please use a different name to suppress this warning.\n",
      "A parameter name that contains `beta` will be renamed internally to `bias`. Please use a different name to suppress this warning.\n",
      "A parameter name that contains `gamma` will be renamed internally to `weight`. Please use a different name to suppress this warning.\n",
      "A parameter name that contains `beta` will be renamed internally to `bias`. Please use a different name to suppress this warning.\n",
      "A parameter name that contains `gamma` will be renamed internally to `weight`. Please use a different name to suppress this warning.\n",
      "A parameter name that contains `beta` will be renamed internally to `bias`. Please use a different name to suppress this warning.\n",
      "A parameter name that contains `gamma` will be renamed internally to `weight`. Please use a different name to suppress this warning.\n",
      "A parameter name that contains `beta` will be renamed internally to `bias`. Please use a different name to suppress this warning.\n",
      "A parameter name that contains `gamma` will be renamed internally to `weight`. Please use a different name to suppress this warning.\n",
      "A parameter name that contains `beta` will be renamed internally to `bias`. Please use a different name to suppress this warning.\n",
      "A parameter name that contains `gamma` will be renamed internally to `weight`. Please use a different name to suppress this warning.\n",
      "A parameter name that contains `beta` will be renamed internally to `bias`. Please use a different name to suppress this warning.\n",
      "A parameter name that contains `gamma` will be renamed internally to `weight`. Please use a different name to suppress this warning.\n",
      "A parameter name that contains `beta` will be renamed internally to `bias`. Please use a different name to suppress this warning.\n",
      "A parameter name that contains `gamma` will be renamed internally to `weight`. Please use a different name to suppress this warning.\n",
      "A parameter name that contains `beta` will be renamed internally to `bias`. Please use a different name to suppress this warning.\n",
      "A parameter name that contains `gamma` will be renamed internally to `weight`. Please use a different name to suppress this warning.\n",
      "A parameter name that contains `beta` will be renamed internally to `bias`. Please use a different name to suppress this warning.\n",
      "A parameter name that contains `gamma` will be renamed internally to `weight`. Please use a different name to suppress this warning.\n",
      "A parameter name that contains `beta` will be renamed internally to `bias`. Please use a different name to suppress this warning.\n",
      "A parameter name that contains `gamma` will be renamed internally to `weight`. Please use a different name to suppress this warning.\n",
      "A parameter name that contains `beta` will be renamed internally to `bias`. Please use a different name to suppress this warning.\n",
      "A parameter name that contains `gamma` will be renamed internally to `weight`. Please use a different name to suppress this warning.\n",
      "A parameter name that contains `beta` will be renamed internally to `bias`. Please use a different name to suppress this warning.\n",
      "A parameter name that contains `gamma` will be renamed internally to `weight`. Please use a different name to suppress this warning.\n",
      "A parameter name that contains `beta` will be renamed internally to `bias`. Please use a different name to suppress this warning.\n",
      "A parameter name that contains `gamma` will be renamed internally to `weight`. Please use a different name to suppress this warning.\n"
     ]
    },
    {
     "name": "stdout",
     "output_type": "stream",
     "text": [
      "calculating scores...\n",
      "computing bert embedding.\n"
     ]
    },
    {
     "data": {
      "application/vnd.jupyter.widget-view+json": {
       "model_id": "0c515ec3515440559ea4abf234382de6",
       "version_major": 2,
       "version_minor": 0
      },
      "text/plain": [
       "  0%|          | 0/3 [00:00<?, ?it/s]"
      ]
     },
     "metadata": {},
     "output_type": "display_data"
    },
    {
     "name": "stdout",
     "output_type": "stream",
     "text": [
      "computing greedy matching.\n"
     ]
    },
    {
     "data": {
      "application/vnd.jupyter.widget-view+json": {
       "model_id": "a0e39ab4a441499788ac1567002aadc0",
       "version_major": 2,
       "version_minor": 0
      },
      "text/plain": [
       "  0%|          | 0/2 [00:00<?, ?it/s]"
      ]
     },
     "metadata": {},
     "output_type": "display_data"
    },
    {
     "name": "stdout",
     "output_type": "stream",
     "text": [
      "done in 0.95 seconds, 105.31 sentences/sec\n",
      "(tensor([0.5001, 0.4352, 0.5763, 0.5614, 0.5663, 0.5299, 0.6558, 0.4921, 0.5517,\n",
      "        0.5140, 0.5863, 0.6108, 0.5857, 0.5741, 0.6054, 0.4677, 0.4905, 0.5686,\n",
      "        0.5894, 0.5933, 0.5735, 0.4905, 0.5402, 0.6057, 0.5994, 0.4677, 0.6175,\n",
      "        0.6771, 0.5456, 0.5258, 0.5180, 0.5601, 0.5383, 0.6072, 0.5409, 0.5397,\n",
      "        0.5859, 0.5074, 0.5558, 0.5690, 0.5261, 0.5592, 0.5599, 0.6273, 0.6342,\n",
      "        0.5180, 0.6111, 0.5907, 0.5307, 0.6276, 0.5951, 0.6062, 0.6572, 0.5684,\n",
      "        0.5909, 0.5056, 0.5643, 0.5907, 0.5343, 0.5298, 0.5477, 0.5691, 0.5469,\n",
      "        0.6246, 0.5889, 0.5867, 0.5603, 0.5846, 0.5582, 0.5521, 0.5849, 0.5397,\n",
      "        0.5658, 0.6058, 0.6652, 0.5775, 0.4750, 0.6085, 0.5775, 0.6472, 0.5064,\n",
      "        0.6409, 0.6376, 0.6560, 0.6302, 0.6473, 0.5743, 0.5975, 0.4983, 0.5668,\n",
      "        0.6676, 0.5470, 0.5042, 0.5198, 0.5858, 0.4823, 0.6539, 0.5174, 0.5897,\n",
      "        0.6495]), tensor([0.6836, 0.5816, 0.6067, 0.6561, 0.6789, 0.5707, 0.8799, 0.6161, 0.6474,\n",
      "        0.5560, 0.6380, 0.7840, 0.6959, 0.6251, 0.7628, 0.6224, 0.4802, 0.6159,\n",
      "        0.6518, 0.7898, 0.6158, 0.4802, 0.6101, 0.7513, 0.7379, 0.6224, 0.8305,\n",
      "        0.8452, 0.4997, 0.5962, 0.5718, 0.5776, 0.5827, 0.5669, 0.5629, 0.5617,\n",
      "        0.5961, 0.5692, 0.7141, 0.6138, 0.6417, 0.7197, 0.7781, 0.5988, 0.7884,\n",
      "        0.5718, 0.5986, 0.6132, 0.6573, 0.7931, 0.6604, 0.5830, 0.7997, 0.7079,\n",
      "        0.6487, 0.5545, 0.6462, 0.6132, 0.5765, 0.6005, 0.6049, 0.8245, 0.6917,\n",
      "        0.7885, 0.7680, 0.7584, 0.7874, 0.8126, 0.6882, 0.6584, 0.6368, 0.6641,\n",
      "        0.7065, 0.7577, 0.8006, 0.6869, 0.6161, 0.7374, 0.5609, 0.7646, 0.7415,\n",
      "        0.7841, 0.8831, 0.8071, 0.6076, 0.7414, 0.7305, 0.7470, 0.6920, 0.7643,\n",
      "        0.7733, 0.6929, 0.7009, 0.5457, 0.8219, 0.5919, 0.8390, 0.6229, 0.6608,\n",
      "        0.7952]), tensor([0.5776, 0.4979, 0.5911, 0.6051, 0.6175, 0.5495, 0.7515, 0.5472, 0.5957,\n",
      "        0.5342, 0.6110, 0.6867, 0.6361, 0.5986, 0.6751, 0.5341, 0.4853, 0.5913,\n",
      "        0.6190, 0.6776, 0.5939, 0.4853, 0.5730, 0.6707, 0.6615, 0.5341, 0.7084,\n",
      "        0.7519, 0.5217, 0.5588, 0.5436, 0.5687, 0.5596, 0.5864, 0.5517, 0.5505,\n",
      "        0.5909, 0.5365, 0.6251, 0.5906, 0.5782, 0.6294, 0.6512, 0.6128, 0.7029,\n",
      "        0.5436, 0.6048, 0.6018, 0.5873, 0.7007, 0.6261, 0.5943, 0.7215, 0.6305,\n",
      "        0.6184, 0.5289, 0.6025, 0.6018, 0.5546, 0.5629, 0.5749, 0.6734, 0.6108,\n",
      "        0.6971, 0.6666, 0.6616, 0.6547, 0.6800, 0.6164, 0.6006, 0.6097, 0.5954,\n",
      "        0.6284, 0.6733, 0.7267, 0.6275, 0.5364, 0.6668, 0.5691, 0.7011, 0.6018,\n",
      "        0.7053, 0.7405, 0.7238, 0.6187, 0.6912, 0.6430, 0.6639, 0.5794, 0.6509,\n",
      "        0.7166, 0.6114, 0.5865, 0.5324, 0.6840, 0.5315, 0.7350, 0.5653, 0.6232,\n",
      "        0.7150]))\n",
      "System level P score: 0.5699\n",
      "System level R score: 0.6766\n",
      "System level F1 score: 0.6169\n"
     ]
    }
   ],
   "source": [
    "# llama3\n",
    "# df=pd.read_csv(\"WangchanLion7B.csv\")\n",
    "cands=df.predictions.tolist()\n",
    "P, R, F1 = score(cands, refs, lang='th', verbose=True)\n",
    "print((P,R,F1))\n",
    "print(f\"System level P score: {P.mean():.4f}\")\n",
    "print(f\"System level R score: {R.mean():.4f}\")\n",
    "print(f\"System level F1 score: {F1.mean():.4f}\")"
   ]
  },
  {
   "cell_type": "code",
   "execution_count": 7,
   "id": "ca1d5bb7-3f1f-4ab3-a330-111fd26f6221",
   "metadata": {},
   "outputs": [
    {
     "name": "stderr",
     "output_type": "stream",
     "text": [
      "A parameter name that contains `beta` will be renamed internally to `bias`. Please use a different name to suppress this warning.\n",
      "A parameter name that contains `gamma` will be renamed internally to `weight`. Please use a different name to suppress this warning.\n",
      "A parameter name that contains `beta` will be renamed internally to `bias`. Please use a different name to suppress this warning.\n",
      "A parameter name that contains `gamma` will be renamed internally to `weight`. Please use a different name to suppress this warning.\n",
      "A parameter name that contains `beta` will be renamed internally to `bias`. Please use a different name to suppress this warning.\n",
      "A parameter name that contains `gamma` will be renamed internally to `weight`. Please use a different name to suppress this warning.\n",
      "A parameter name that contains `beta` will be renamed internally to `bias`. Please use a different name to suppress this warning.\n",
      "A parameter name that contains `gamma` will be renamed internally to `weight`. Please use a different name to suppress this warning.\n",
      "A parameter name that contains `beta` will be renamed internally to `bias`. Please use a different name to suppress this warning.\n",
      "A parameter name that contains `gamma` will be renamed internally to `weight`. Please use a different name to suppress this warning.\n",
      "A parameter name that contains `beta` will be renamed internally to `bias`. Please use a different name to suppress this warning.\n",
      "A parameter name that contains `gamma` will be renamed internally to `weight`. Please use a different name to suppress this warning.\n",
      "A parameter name that contains `beta` will be renamed internally to `bias`. Please use a different name to suppress this warning.\n",
      "A parameter name that contains `gamma` will be renamed internally to `weight`. Please use a different name to suppress this warning.\n",
      "A parameter name that contains `beta` will be renamed internally to `bias`. Please use a different name to suppress this warning.\n",
      "A parameter name that contains `gamma` will be renamed internally to `weight`. Please use a different name to suppress this warning.\n",
      "A parameter name that contains `beta` will be renamed internally to `bias`. Please use a different name to suppress this warning.\n",
      "A parameter name that contains `gamma` will be renamed internally to `weight`. Please use a different name to suppress this warning.\n",
      "A parameter name that contains `beta` will be renamed internally to `bias`. Please use a different name to suppress this warning.\n",
      "A parameter name that contains `gamma` will be renamed internally to `weight`. Please use a different name to suppress this warning.\n",
      "A parameter name that contains `beta` will be renamed internally to `bias`. Please use a different name to suppress this warning.\n",
      "A parameter name that contains `gamma` will be renamed internally to `weight`. Please use a different name to suppress this warning.\n",
      "A parameter name that contains `beta` will be renamed internally to `bias`. Please use a different name to suppress this warning.\n",
      "A parameter name that contains `gamma` will be renamed internally to `weight`. Please use a different name to suppress this warning.\n",
      "A parameter name that contains `beta` will be renamed internally to `bias`. Please use a different name to suppress this warning.\n",
      "A parameter name that contains `gamma` will be renamed internally to `weight`. Please use a different name to suppress this warning.\n",
      "A parameter name that contains `beta` will be renamed internally to `bias`. Please use a different name to suppress this warning.\n",
      "A parameter name that contains `gamma` will be renamed internally to `weight`. Please use a different name to suppress this warning.\n",
      "A parameter name that contains `beta` will be renamed internally to `bias`. Please use a different name to suppress this warning.\n",
      "A parameter name that contains `gamma` will be renamed internally to `weight`. Please use a different name to suppress this warning.\n",
      "A parameter name that contains `beta` will be renamed internally to `bias`. Please use a different name to suppress this warning.\n",
      "A parameter name that contains `gamma` will be renamed internally to `weight`. Please use a different name to suppress this warning.\n",
      "A parameter name that contains `beta` will be renamed internally to `bias`. Please use a different name to suppress this warning.\n",
      "A parameter name that contains `gamma` will be renamed internally to `weight`. Please use a different name to suppress this warning.\n",
      "A parameter name that contains `beta` will be renamed internally to `bias`. Please use a different name to suppress this warning.\n",
      "A parameter name that contains `gamma` will be renamed internally to `weight`. Please use a different name to suppress this warning.\n",
      "A parameter name that contains `beta` will be renamed internally to `bias`. Please use a different name to suppress this warning.\n",
      "A parameter name that contains `gamma` will be renamed internally to `weight`. Please use a different name to suppress this warning.\n",
      "A parameter name that contains `beta` will be renamed internally to `bias`. Please use a different name to suppress this warning.\n",
      "A parameter name that contains `gamma` will be renamed internally to `weight`. Please use a different name to suppress this warning.\n",
      "A parameter name that contains `beta` will be renamed internally to `bias`. Please use a different name to suppress this warning.\n",
      "A parameter name that contains `gamma` will be renamed internally to `weight`. Please use a different name to suppress this warning.\n",
      "A parameter name that contains `beta` will be renamed internally to `bias`. Please use a different name to suppress this warning.\n",
      "A parameter name that contains `gamma` will be renamed internally to `weight`. Please use a different name to suppress this warning.\n",
      "A parameter name that contains `beta` will be renamed internally to `bias`. Please use a different name to suppress this warning.\n",
      "A parameter name that contains `gamma` will be renamed internally to `weight`. Please use a different name to suppress this warning.\n",
      "A parameter name that contains `beta` will be renamed internally to `bias`. Please use a different name to suppress this warning.\n",
      "A parameter name that contains `gamma` will be renamed internally to `weight`. Please use a different name to suppress this warning.\n",
      "A parameter name that contains `beta` will be renamed internally to `bias`. Please use a different name to suppress this warning.\n",
      "A parameter name that contains `gamma` will be renamed internally to `weight`. Please use a different name to suppress this warning.\n",
      "A parameter name that contains `beta` will be renamed internally to `bias`. Please use a different name to suppress this warning.\n",
      "A parameter name that contains `gamma` will be renamed internally to `weight`. Please use a different name to suppress this warning.\n"
     ]
    },
    {
     "name": "stdout",
     "output_type": "stream",
     "text": [
      "calculating scores...\n",
      "computing bert embedding.\n"
     ]
    },
    {
     "data": {
      "application/vnd.jupyter.widget-view+json": {
       "model_id": "4ffe6d6759bd4ce9b3a1f6e15449fb2e",
       "version_major": 2,
       "version_minor": 0
      },
      "text/plain": [
       "  0%|          | 0/3 [00:00<?, ?it/s]"
      ]
     },
     "metadata": {},
     "output_type": "display_data"
    },
    {
     "name": "stdout",
     "output_type": "stream",
     "text": [
      "computing greedy matching.\n"
     ]
    },
    {
     "data": {
      "application/vnd.jupyter.widget-view+json": {
       "model_id": "b2b4b31f734e4fa699ab57b485b5fbb1",
       "version_major": 2,
       "version_minor": 0
      },
      "text/plain": [
       "  0%|          | 0/2 [00:00<?, ?it/s]"
      ]
     },
     "metadata": {},
     "output_type": "display_data"
    },
    {
     "name": "stdout",
     "output_type": "stream",
     "text": [
      "done in 0.51 seconds, 195.51 sentences/sec\n",
      "(tensor([0.4608, 0.4696, 0.4951, 0.6089, 0.5658, 0.4697, 0.6550, 0.5119, 0.5917,\n",
      "        0.8199, 0.4406, 1.0000, 0.7984, 0.5877, 0.9143, 0.4774, 0.6263, 0.5305,\n",
      "        0.5899, 1.0000, 0.4801, 0.6263, 0.5524, 1.0000, 0.7054, 0.4774, 0.6589,\n",
      "        0.7054, 0.6455, 0.5524, 0.3610, 1.0000, 0.4993, 0.8278, 0.5798, 0.8144,\n",
      "        0.8046, 0.4255, 0.7524, 0.5439, 0.5331, 0.7524, 1.0000, 0.8469, 0.8159,\n",
      "        0.4251, 1.0000, 0.5884, 0.5492, 0.7068, 0.5408, 0.7809, 1.0000, 0.6253,\n",
      "        1.0000, 0.7904, 0.5756, 0.5624, 0.5246, 0.5053, 0.7757, 0.7867, 0.6979,\n",
      "        1.0000, 1.0000, 1.0000, 1.0000, 0.6665, 0.6130, 0.5965, 0.6618, 0.7201,\n",
      "        0.5447, 0.7733, 0.7204, 0.7216, 0.4710, 0.6433, 0.6801, 1.0000, 0.7512,\n",
      "        0.5820, 0.7514, 0.7021, 0.7755, 0.6006, 0.5241, 0.4374, 0.4995, 0.6020,\n",
      "        0.7146, 0.5903, 0.4964, 0.6674, 0.6328, 0.4022, 0.8770, 0.7470, 0.6772,\n",
      "        1.0000]), tensor([0.6734, 0.6000, 0.6404, 0.6693, 0.6909, 0.6159, 0.8784, 0.6135, 0.6585,\n",
      "        0.9251, 0.5654, 1.0000, 0.9167, 0.6741, 0.9525, 0.6110, 0.6568, 0.7114,\n",
      "        0.7581, 1.0000, 0.6668, 0.6568, 0.6392, 1.0000, 0.8558, 0.6110, 0.8537,\n",
      "        0.8558, 0.8522, 0.6392, 0.5448, 1.0000, 0.6245, 0.9369, 0.7996, 0.8939,\n",
      "        0.9059, 0.5408, 0.7654, 0.6372, 0.6639, 0.7654, 1.0000, 0.9207, 0.9185,\n",
      "        0.5425, 1.0000, 0.6884, 0.6799, 0.8767, 0.7246, 0.9249, 1.0000, 0.8836,\n",
      "        1.0000, 0.9066, 0.8329, 0.6494, 0.5923, 0.6674, 0.7675, 0.9057, 0.7643,\n",
      "        1.0000, 1.0000, 1.0000, 1.0000, 0.8719, 0.7245, 0.6987, 0.7156, 0.8910,\n",
      "        0.6376, 0.8996, 0.8944, 0.8599, 0.6344, 0.8822, 0.8859, 1.0000, 0.8136,\n",
      "        0.6682, 0.9254, 0.8728, 0.8862, 0.7871, 0.7030, 0.6591, 0.7227, 0.7984,\n",
      "        0.8900, 0.7905, 0.7324, 0.8817, 0.8310, 0.5511, 0.9501, 0.9023, 0.8899,\n",
      "        1.0000]), tensor([0.5472, 0.5268, 0.5585, 0.6377, 0.6222, 0.5329, 0.7504, 0.5582, 0.6234,\n",
      "        0.8694, 0.4953, 1.0000, 0.8534, 0.6280, 0.9330, 0.5360, 0.6412, 0.6077,\n",
      "        0.6635, 1.0000, 0.5583, 0.6412, 0.5926, 1.0000, 0.7733, 0.5360, 0.7437,\n",
      "        0.7733, 0.7346, 0.5926, 0.4342, 1.0000, 0.5550, 0.8790, 0.6722, 0.8523,\n",
      "        0.8522, 0.4763, 0.7588, 0.5869, 0.5914, 0.7588, 1.0000, 0.8823, 0.8642,\n",
      "        0.4767, 1.0000, 0.6345, 0.6076, 0.7826, 0.6193, 0.8468, 1.0000, 0.7323,\n",
      "        1.0000, 0.8445, 0.6807, 0.6027, 0.5564, 0.5751, 0.7716, 0.8420, 0.7296,\n",
      "        1.0000, 1.0000, 1.0000, 1.0000, 0.7555, 0.6641, 0.6435, 0.6876, 0.7965,\n",
      "        0.5875, 0.8316, 0.7980, 0.7847, 0.5406, 0.7440, 0.7695, 1.0000, 0.7812,\n",
      "        0.6221, 0.8293, 0.7782, 0.8272, 0.6813, 0.6005, 0.5259, 0.5907, 0.6864,\n",
      "        0.7927, 0.6759, 0.5917, 0.7597, 0.7185, 0.4650, 0.9121, 0.8173, 0.7691,\n",
      "        1.0000]))\n",
      "System level P score: 0.6785\n",
      "System level R score: 0.7962\n",
      "System level F1 score: 0.7302\n"
     ]
    }
   ],
   "source": [
    "# llama3\n",
    "df=pd.read_csv(\"Meta-Llama-3.1-8B-Instruct.csv\")\n",
    "cands=df.predictions.tolist()\n",
    "P, R, F1 = score(cands, refs, lang='th', verbose=True)\n",
    "print((P,R,F1))\n",
    "print(f\"System level P score: {P.mean():.4f}\")\n",
    "print(f\"System level R score: {R.mean():.4f}\")\n",
    "print(f\"System level F1 score: {F1.mean():.4f}\")"
   ]
  },
  {
   "cell_type": "code",
   "execution_count": 9,
   "id": "65bc40e4-6fd3-4d9d-bdcc-33160b7724bc",
   "metadata": {},
   "outputs": [
    {
     "name": "stderr",
     "output_type": "stream",
     "text": [
      "A parameter name that contains `beta` will be renamed internally to `bias`. Please use a different name to suppress this warning.\n",
      "A parameter name that contains `gamma` will be renamed internally to `weight`. Please use a different name to suppress this warning.\n",
      "A parameter name that contains `beta` will be renamed internally to `bias`. Please use a different name to suppress this warning.\n",
      "A parameter name that contains `gamma` will be renamed internally to `weight`. Please use a different name to suppress this warning.\n",
      "A parameter name that contains `beta` will be renamed internally to `bias`. Please use a different name to suppress this warning.\n",
      "A parameter name that contains `gamma` will be renamed internally to `weight`. Please use a different name to suppress this warning.\n",
      "A parameter name that contains `beta` will be renamed internally to `bias`. Please use a different name to suppress this warning.\n",
      "A parameter name that contains `gamma` will be renamed internally to `weight`. Please use a different name to suppress this warning.\n",
      "A parameter name that contains `beta` will be renamed internally to `bias`. Please use a different name to suppress this warning.\n",
      "A parameter name that contains `gamma` will be renamed internally to `weight`. Please use a different name to suppress this warning.\n",
      "A parameter name that contains `beta` will be renamed internally to `bias`. Please use a different name to suppress this warning.\n",
      "A parameter name that contains `gamma` will be renamed internally to `weight`. Please use a different name to suppress this warning.\n",
      "A parameter name that contains `beta` will be renamed internally to `bias`. Please use a different name to suppress this warning.\n",
      "A parameter name that contains `gamma` will be renamed internally to `weight`. Please use a different name to suppress this warning.\n",
      "A parameter name that contains `beta` will be renamed internally to `bias`. Please use a different name to suppress this warning.\n",
      "A parameter name that contains `gamma` will be renamed internally to `weight`. Please use a different name to suppress this warning.\n",
      "A parameter name that contains `beta` will be renamed internally to `bias`. Please use a different name to suppress this warning.\n",
      "A parameter name that contains `gamma` will be renamed internally to `weight`. Please use a different name to suppress this warning.\n",
      "A parameter name that contains `beta` will be renamed internally to `bias`. Please use a different name to suppress this warning.\n",
      "A parameter name that contains `gamma` will be renamed internally to `weight`. Please use a different name to suppress this warning.\n",
      "A parameter name that contains `beta` will be renamed internally to `bias`. Please use a different name to suppress this warning.\n",
      "A parameter name that contains `gamma` will be renamed internally to `weight`. Please use a different name to suppress this warning.\n",
      "A parameter name that contains `beta` will be renamed internally to `bias`. Please use a different name to suppress this warning.\n",
      "A parameter name that contains `gamma` will be renamed internally to `weight`. Please use a different name to suppress this warning.\n",
      "A parameter name that contains `beta` will be renamed internally to `bias`. Please use a different name to suppress this warning.\n",
      "A parameter name that contains `gamma` will be renamed internally to `weight`. Please use a different name to suppress this warning.\n",
      "A parameter name that contains `beta` will be renamed internally to `bias`. Please use a different name to suppress this warning.\n",
      "A parameter name that contains `gamma` will be renamed internally to `weight`. Please use a different name to suppress this warning.\n",
      "A parameter name that contains `beta` will be renamed internally to `bias`. Please use a different name to suppress this warning.\n",
      "A parameter name that contains `gamma` will be renamed internally to `weight`. Please use a different name to suppress this warning.\n",
      "A parameter name that contains `beta` will be renamed internally to `bias`. Please use a different name to suppress this warning.\n",
      "A parameter name that contains `gamma` will be renamed internally to `weight`. Please use a different name to suppress this warning.\n",
      "A parameter name that contains `beta` will be renamed internally to `bias`. Please use a different name to suppress this warning.\n",
      "A parameter name that contains `gamma` will be renamed internally to `weight`. Please use a different name to suppress this warning.\n",
      "A parameter name that contains `beta` will be renamed internally to `bias`. Please use a different name to suppress this warning.\n",
      "A parameter name that contains `gamma` will be renamed internally to `weight`. Please use a different name to suppress this warning.\n",
      "A parameter name that contains `beta` will be renamed internally to `bias`. Please use a different name to suppress this warning.\n",
      "A parameter name that contains `gamma` will be renamed internally to `weight`. Please use a different name to suppress this warning.\n",
      "A parameter name that contains `beta` will be renamed internally to `bias`. Please use a different name to suppress this warning.\n",
      "A parameter name that contains `gamma` will be renamed internally to `weight`. Please use a different name to suppress this warning.\n",
      "A parameter name that contains `beta` will be renamed internally to `bias`. Please use a different name to suppress this warning.\n",
      "A parameter name that contains `gamma` will be renamed internally to `weight`. Please use a different name to suppress this warning.\n",
      "A parameter name that contains `beta` will be renamed internally to `bias`. Please use a different name to suppress this warning.\n",
      "A parameter name that contains `gamma` will be renamed internally to `weight`. Please use a different name to suppress this warning.\n",
      "A parameter name that contains `beta` will be renamed internally to `bias`. Please use a different name to suppress this warning.\n",
      "A parameter name that contains `gamma` will be renamed internally to `weight`. Please use a different name to suppress this warning.\n",
      "A parameter name that contains `beta` will be renamed internally to `bias`. Please use a different name to suppress this warning.\n",
      "A parameter name that contains `gamma` will be renamed internally to `weight`. Please use a different name to suppress this warning.\n",
      "A parameter name that contains `beta` will be renamed internally to `bias`. Please use a different name to suppress this warning.\n",
      "A parameter name that contains `gamma` will be renamed internally to `weight`. Please use a different name to suppress this warning.\n",
      "A parameter name that contains `beta` will be renamed internally to `bias`. Please use a different name to suppress this warning.\n",
      "A parameter name that contains `gamma` will be renamed internally to `weight`. Please use a different name to suppress this warning.\n"
     ]
    },
    {
     "name": "stdout",
     "output_type": "stream",
     "text": [
      "calculating scores...\n",
      "computing bert embedding.\n"
     ]
    },
    {
     "data": {
      "application/vnd.jupyter.widget-view+json": {
       "model_id": "5cf6baa176944ee3903aebe37baebc6f",
       "version_major": 2,
       "version_minor": 0
      },
      "text/plain": [
       "  0%|          | 0/2 [00:00<?, ?it/s]"
      ]
     },
     "metadata": {},
     "output_type": "display_data"
    },
    {
     "name": "stdout",
     "output_type": "stream",
     "text": [
      "computing greedy matching.\n"
     ]
    },
    {
     "data": {
      "application/vnd.jupyter.widget-view+json": {
       "model_id": "a9ffac60e9f5443786fed34e83ba229c",
       "version_major": 2,
       "version_minor": 0
      },
      "text/plain": [
       "  0%|          | 0/2 [00:00<?, ?it/s]"
      ]
     },
     "metadata": {},
     "output_type": "display_data"
    },
    {
     "name": "stdout",
     "output_type": "stream",
     "text": [
      "done in 0.46 seconds, 215.70 sentences/sec\n",
      "(tensor([0.4966, 0.4287, 0.7296, 0.6868, 0.6101, 0.4790, 0.6040, 0.5218, 0.6015,\n",
      "        0.6613, 0.4759, 0.5881, 1.0000, 0.6940, 0.9080, 0.4802, 0.5655, 1.0000,\n",
      "        0.5869, 0.6477, 1.0000, 0.5655, 0.6407, 1.0000, 0.6396, 0.4802, 0.6589,\n",
      "        0.6396, 0.5651, 0.6407, 0.7199, 1.0000, 0.4441, 0.8044, 0.5823, 1.0000,\n",
      "        1.0000, 0.7219, 0.7524, 0.7503, 0.7503, 0.7524, 1.0000, 0.7244, 1.0000,\n",
      "        0.7199, 1.0000, 0.6829, 1.0000, 0.7014, 0.6079, 1.0000, 1.0000, 1.0000,\n",
      "        1.0000, 1.0000, 1.0000, 0.5687, 1.0000, 0.4781, 0.5699, 1.0000, 0.5085,\n",
      "        1.0000, 0.7072, 0.6126, 0.5744, 0.6665, 0.5317, 0.6880, 0.6394, 0.5854,\n",
      "        0.7600, 1.0000, 1.0000, 0.7830, 0.4884, 0.6333, 1.0000, 1.0000, 1.0000,\n",
      "        0.5956, 0.6658, 0.7021, 0.7087, 0.5928, 0.5660, 1.0000, 0.4983, 0.7658,\n",
      "        0.7139, 0.5695, 1.0000, 0.5614, 0.5776, 0.4086, 0.7880, 0.5694, 1.0000,\n",
      "        1.0000]), tensor([0.7030, 0.5717, 0.7743, 0.6661, 0.8721, 0.5968, 0.8590, 0.6134, 0.7078,\n",
      "        0.8969, 0.5929, 0.8065, 1.0000, 0.6677, 0.9531, 0.6297, 0.7870, 1.0000,\n",
      "        0.7630, 0.8627, 1.0000, 0.7870, 0.7634, 1.0000, 0.8416, 0.6297, 0.8537,\n",
      "        0.8416, 0.7864, 0.7634, 0.7233, 1.0000, 0.5435, 0.9374, 0.8004, 1.0000,\n",
      "        1.0000, 0.7242, 0.7654, 0.8441, 0.8441, 0.7654, 1.0000, 0.8825, 1.0000,\n",
      "        0.7233, 1.0000, 0.7435, 1.0000, 0.8547, 0.8068, 1.0000, 1.0000, 1.0000,\n",
      "        1.0000, 1.0000, 1.0000, 0.6790, 1.0000, 0.6214, 0.8042, 1.0000, 0.6500,\n",
      "        1.0000, 0.9080, 0.8760, 0.8552, 0.8719, 0.6824, 0.7697, 0.8829, 0.8447,\n",
      "        0.8644, 1.0000, 1.0000, 0.8911, 0.7327, 0.8724, 1.0000, 1.0000, 1.0000,\n",
      "        0.6777, 0.9390, 0.8728, 0.8546, 0.7744, 0.7515, 1.0000, 0.6920, 0.9058,\n",
      "        0.8912, 0.7969, 1.0000, 0.7473, 0.7865, 0.6351, 0.9331, 0.6314, 1.0000,\n",
      "        1.0000]), tensor([0.5820, 0.4900, 0.7513, 0.6763, 0.7179, 0.5314, 0.7092, 0.5639, 0.6504,\n",
      "        0.7613, 0.5280, 0.6802, 1.0000, 0.6806, 0.9300, 0.5449, 0.6581, 1.0000,\n",
      "        0.6635, 0.7399, 1.0000, 0.6581, 0.6967, 1.0000, 0.7268, 0.5449, 0.7437,\n",
      "        0.7268, 0.6576, 0.6967, 0.7216, 1.0000, 0.4888, 0.8658, 0.6741, 1.0000,\n",
      "        1.0000, 0.7230, 0.7588, 0.7944, 0.7944, 0.7588, 1.0000, 0.7957, 1.0000,\n",
      "        0.7216, 1.0000, 0.7119, 1.0000, 0.7705, 0.6934, 1.0000, 1.0000, 1.0000,\n",
      "        1.0000, 1.0000, 1.0000, 0.6190, 1.0000, 0.5404, 0.6670, 1.0000, 0.5706,\n",
      "        1.0000, 0.7952, 0.7210, 0.6872, 0.7555, 0.5977, 0.7266, 0.7417, 0.6915,\n",
      "        0.8088, 1.0000, 1.0000, 0.8336, 0.5861, 0.7339, 1.0000, 1.0000, 1.0000,\n",
      "        0.6340, 0.7791, 0.7782, 0.7748, 0.6715, 0.6457, 1.0000, 0.5794, 0.8300,\n",
      "        0.7928, 0.6643, 1.0000, 0.6412, 0.6660, 0.4973, 0.8544, 0.5988, 1.0000,\n",
      "        1.0000]))\n",
      "System level P score: 0.7339\n",
      "System level R score: 0.8424\n",
      "System level F1 score: 0.7807\n"
     ]
    }
   ],
   "source": [
    "# llama3-8b-cpt-sea-lionv2-instruct\n",
    "df=pd.read_csv(\"llama3-8b-cpt-sea-lionv2-instruct.csv\")\n",
    "cands=df.predictions.tolist()\n",
    "P, R, F1 = score(cands, refs, lang='th', verbose=True)\n",
    "print((P,R,F1))\n",
    "print(f\"System level P score: {P.mean():.4f}\")\n",
    "print(f\"System level R score: {R.mean():.4f}\")\n",
    "print(f\"System level F1 score: {F1.mean():.4f}\")"
   ]
  },
  {
   "cell_type": "code",
   "execution_count": null,
   "id": "a13e65c9-bea5-4834-8d7c-a353793f6e8e",
   "metadata": {},
   "outputs": [],
   "source": []
  }
 ],
 "metadata": {
  "kernelspec": {
   "display_name": "Python 3 (ipykernel)",
   "language": "python",
   "name": "python3"
  },
  "language_info": {
   "codemirror_mode": {
    "name": "ipython",
    "version": 3
   },
   "file_extension": ".py",
   "mimetype": "text/x-python",
   "name": "python",
   "nbconvert_exporter": "python",
   "pygments_lexer": "ipython3",
   "version": "3.10.12"
  }
 },
 "nbformat": 4,
 "nbformat_minor": 5
}
